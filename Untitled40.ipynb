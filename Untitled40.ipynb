{
 "cells": [
  {
   "cell_type": "markdown",
   "id": "7d0154ad-9890-443c-aa7e-c52f1e34a39d",
   "metadata": {},
   "source": [
    "Que 1"
   ]
  },
  {
   "cell_type": "markdown",
   "id": "561d245f-cb07-4602-addc-7eb9f9c4ca90",
   "metadata": {},
   "source": [
    "In Python, an exception is an event that occurs during the execution of a program that disrupts the normal flow of the program's instructions. When an exceptional situation arises, Python raises an exception, indicating that something unexpected or erroneous has happened. This can be due to various reasons, such as trying to divide by zero, accessing an index out of range in a list, or attempting to open a file that doesn't exist.\n",
    "\n",
    "Exceptions allow programmers to handle error conditions gracefully by providing mechanisms to catch and respond to these exceptional situations. By handling exceptions, the program can take appropriate actions to recover from errors or terminate gracefully while displaying helpful error messages to users.\n",
    "\n",
    "Difference between Exceptions and Syntax Errors:\n",
    "\n",
    "1. Nature of occurrence:\n",
    "   - Exceptions: Exceptions occur during the runtime of a program when an error or exceptional situation arises.\n",
    "   - Syntax Errors: Syntax errors, on the other hand, occur during the compilation or parsing phase of the program before its execution. These errors are a result of violating Python's syntax rules, such as incorrect indentation, missing colons, or misspelling keywords.\n",
    "\n",
    "2. Time of detection:\n",
    "   - Exceptions: Exceptional situations causing exceptions are detected while the program is running.\n",
    "   - Syntax Errors: Syntax errors are detected before the program starts executing, during the parsing phase.\n",
    "\n",
    "3. Handling:\n",
    "   - Exceptions: Python provides a mechanism to catch and handle exceptions using try-except blocks. This allows the programmer to handle exceptional situations gracefully, preventing the program from terminating abruptly.\n",
    "   - Syntax Errors: Since syntax errors occur during the parsing phase, they need to be fixed in the code before the program can be executed successfully. They cannot be caught or handled during runtime.\n",
    "   \n",
    "\n"
   ]
  },
  {
   "cell_type": "code",
   "execution_count": 5,
   "id": "bae6e07e-1d93-4e5e-a3ea-2dd1ed2d34a7",
   "metadata": {},
   "outputs": [
    {
     "name": "stdin",
     "output_type": "stream",
     "text": [
      "Enter a number:  1\n",
      "Enter another number:  0\n"
     ]
    },
    {
     "name": "stdout",
     "output_type": "stream",
     "text": [
      "Error: Cannot divide by zero.\n"
     ]
    }
   ],
   "source": [
    "##example:\n",
    "\n",
    "try:\n",
    "    num1 = int(input(\"Enter a number: \"))\n",
    "    num2 = int(input(\"Enter another number: \"))\n",
    "    result = num1 / num2\n",
    "    print(\"Result:\", result)\n",
    "except ZeroDivisionError:\n",
    "    print(\"Error: Cannot divide by zero.\")\n",
    "except ValueError:\n",
    "    print(\"Error: Invalid input. Please enter valid numbers.\")\n"
   ]
  },
  {
   "cell_type": "code",
   "execution_count": 6,
   "id": "fba400af-ca29-4c7d-a573-9001e65998b1",
   "metadata": {},
   "outputs": [
    {
     "ename": "SyntaxError",
     "evalue": "Missing parentheses in call to 'print'. Did you mean print(...)? (958660760.py, line 2)",
     "output_type": "error",
     "traceback": [
      "\u001b[0;36m  Cell \u001b[0;32mIn[6], line 2\u001b[0;36m\u001b[0m\n\u001b[0;31m    print \"Hello, World!\"\u001b[0m\n\u001b[0m    ^\u001b[0m\n\u001b[0;31mSyntaxError\u001b[0m\u001b[0;31m:\u001b[0m Missing parentheses in call to 'print'. Did you mean print(...)?\n"
     ]
    }
   ],
   "source": [
    "##example\n",
    "print \"Hello, World!\""
   ]
  },
  {
   "cell_type": "code",
   "execution_count": 7,
   "id": "3c5039cc-56b8-4a89-8a05-98812b1375cf",
   "metadata": {},
   "outputs": [],
   "source": [
    "##Above is a syntax error"
   ]
  },
  {
   "cell_type": "markdown",
   "id": "b3a3035b-4bd5-49ab-88d3-28302f2666fa",
   "metadata": {},
   "source": [
    "Que 2"
   ]
  },
  {
   "cell_type": "markdown",
   "id": "b6d3a18f-1a21-40e0-9b20-74b73bd90ff4",
   "metadata": {},
   "source": [
    "When an exception is not handled in Python, it will cause the program to terminate abruptly, and an error message (traceback) will be displayed to the user, indicating the cause of the unhandled exception. "
   ]
  },
  {
   "cell_type": "code",
   "execution_count": 8,
   "id": "15589ed6-8d3a-4ebe-9143-3e4053870398",
   "metadata": {},
   "outputs": [
    {
     "name": "stdin",
     "output_type": "stream",
     "text": [
      "Enter a number:  2\n",
      "Enter another number:  0\n"
     ]
    },
    {
     "ename": "ZeroDivisionError",
     "evalue": "division by zero",
     "output_type": "error",
     "traceback": [
      "\u001b[0;31m---------------------------------------------------------------------------\u001b[0m",
      "\u001b[0;31mZeroDivisionError\u001b[0m                         Traceback (most recent call last)",
      "Cell \u001b[0;32mIn[8], line 8\u001b[0m\n\u001b[1;32m      6\u001b[0m num1 \u001b[38;5;241m=\u001b[39m \u001b[38;5;28mint\u001b[39m(\u001b[38;5;28minput\u001b[39m(\u001b[38;5;124m\"\u001b[39m\u001b[38;5;124mEnter a number: \u001b[39m\u001b[38;5;124m\"\u001b[39m))\n\u001b[1;32m      7\u001b[0m num2 \u001b[38;5;241m=\u001b[39m \u001b[38;5;28mint\u001b[39m(\u001b[38;5;28minput\u001b[39m(\u001b[38;5;124m\"\u001b[39m\u001b[38;5;124mEnter another number: \u001b[39m\u001b[38;5;124m\"\u001b[39m))\n\u001b[0;32m----> 8\u001b[0m result \u001b[38;5;241m=\u001b[39m \u001b[43mdivide_numbers\u001b[49m\u001b[43m(\u001b[49m\u001b[43mnum1\u001b[49m\u001b[43m,\u001b[49m\u001b[43m \u001b[49m\u001b[43mnum2\u001b[49m\u001b[43m)\u001b[49m\n\u001b[1;32m      9\u001b[0m \u001b[38;5;28mprint\u001b[39m(\u001b[38;5;124m\"\u001b[39m\u001b[38;5;124mResult:\u001b[39m\u001b[38;5;124m\"\u001b[39m, result)\n",
      "Cell \u001b[0;32mIn[8], line 4\u001b[0m, in \u001b[0;36mdivide_numbers\u001b[0;34m(num1, num2)\u001b[0m\n\u001b[1;32m      3\u001b[0m \u001b[38;5;28;01mdef\u001b[39;00m \u001b[38;5;21mdivide_numbers\u001b[39m(num1, num2):\n\u001b[0;32m----> 4\u001b[0m     \u001b[38;5;28;01mreturn\u001b[39;00m \u001b[43mnum1\u001b[49m\u001b[43m \u001b[49m\u001b[38;5;241;43m/\u001b[39;49m\u001b[43m \u001b[49m\u001b[43mnum2\u001b[49m\n",
      "\u001b[0;31mZeroDivisionError\u001b[0m: division by zero"
     ]
    }
   ],
   "source": [
    "##example\n",
    "\n",
    "def divide_numbers(num1, num2):\n",
    "    return num1 / num2\n",
    "\n",
    "num1 = int(input(\"Enter a number: \"))\n",
    "num2 = int(input(\"Enter another number: \"))\n",
    "result = divide_numbers(num1, num2)\n",
    "print(\"Result:\", result)\n",
    "\n"
   ]
  },
  {
   "cell_type": "markdown",
   "id": "5a691af6-c9f7-4281-91e3-444d2018ef34",
   "metadata": {},
   "source": [
    "As we see above due to 1 exception the whole code got terminated"
   ]
  },
  {
   "cell_type": "markdown",
   "id": "77a1d9f0-4753-45ed-99c2-db5a2ae5facb",
   "metadata": {},
   "source": [
    "##que 3\n",
    "\n",
    "In Python, you can catch and handle exceptions using the try, except, and optionally else and finally blocks. The try block contains the code that may raise an exception, and the except block allows you to handle the exception gracefully without crashing the program. The else block is executed if no exception occurs, and the finally block is executed whether an exception is raised or not."
   ]
  },
  {
   "cell_type": "code",
   "execution_count": 1,
   "id": "b2d88332-573d-417f-840f-88824ac7601e",
   "metadata": {},
   "outputs": [
    {
     "name": "stdout",
     "output_type": "stream",
     "text": [
      "The result of the division is: 5.0\n",
      "Division operation completed.\n",
      "Error: Cannot divide by zero!\n",
      "Division operation completed.\n",
      "Error: unsupported operand type(s) for /: 'int' and 'str'\n",
      "Division operation completed.\n"
     ]
    }
   ],
   "source": [
    "def divide_numbers(a, b):\n",
    "    try:\n",
    "        result = a / b\n",
    "    except ZeroDivisionError:\n",
    "        print(\"Error: Cannot divide by zero!\")\n",
    "    except TypeError as e:\n",
    "        print(f\"Error: {e}\")\n",
    "    else:\n",
    "        print(f\"The result of the division is: {result}\")\n",
    "    finally:\n",
    "        print(\"Division operation completed.\")\n",
    "\n",
    "divide_numbers(10, 2)     # Normal division, no exception\n",
    "divide_numbers(10, 0)     # Attempt to divide by zero\n",
    "divide_numbers(10, \"2\")   # Attempt to divide by a non-numeric value\n"
   ]
  },
  {
   "cell_type": "markdown",
   "id": "4c771521-2964-4e5f-8e9c-b15f77d8c23f",
   "metadata": {},
   "source": [
    "##Que 4"
   ]
  },
  {
   "cell_type": "code",
   "execution_count": 4,
   "id": "3ba70999-2be6-48c9-a48c-8ca6977a6e55",
   "metadata": {},
   "outputs": [
    {
     "name": "stdin",
     "output_type": "stream",
     "text": [
      "Enter an integer:  W\n"
     ]
    },
    {
     "name": "stdout",
     "output_type": "stream",
     "text": [
      "Invalid input. Please enter an integer.\n",
      "Calculation operation completed.\n"
     ]
    }
   ],
   "source": [
    "class NonIntegerInputError(Exception):\n",
    "    pass\n",
    "\n",
    "def perform_calculation():\n",
    "    try:\n",
    "        # Read input from the user\n",
    "        num = input(\"Enter an integer: \")\n",
    "        if not num.isdigit():\n",
    "            raise NonIntegerInputError(\"Invalid input. Please enter an integer.\")\n",
    "\n",
    "        \n",
    "        num = int(num)\n",
    "        result = num * 2\n",
    "    except NonIntegerInputError as e:\n",
    "        print(e)\n",
    "    else:\n",
    "       \n",
    "        print(f\"The result of the calculation is: {result}\")\n",
    "    finally:\n",
    "        print(\"Calculation operation completed.\")\n",
    "\n",
    "perform_calculation()\n"
   ]
  },
  {
   "cell_type": "markdown",
   "id": "d2a13794-a90d-41d2-abf9-4f24170c83c5",
   "metadata": {},
   "source": [
    "##We have the same NonIntegerInputError custom exception class as before.\n",
    "\n",
    "In the perform_calculation function, after reading the input from the user, we use an if statement with the isdigit() method to check if the input is an integer. If it's not, we raise the custom exception NonIntegerInputError with the error message \"Invalid input. Please enter an integer.\"\n",
    "\n",
    "The except NonIntegerInputError block will catch the custom exception if it's raised. We then print the custom error message from the exception.\n",
    "\n",
    "The else block is executed if no exception occurs, as before.\n",
    "\n",
    "The finally block will always be executed, as before."
   ]
  },
  {
   "cell_type": "markdown",
   "id": "558161b1-3ab0-4a02-b94a-33cd1b499b7c",
   "metadata": {},
   "source": [
    "##Que5"
   ]
  },
  {
   "cell_type": "markdown",
   "id": "5840483e-fb5e-4639-9879-9cc12cafaddb",
   "metadata": {},
   "source": [
    "\n",
    "In Python, custom exceptions are user-defined exceptions that you can create to handle specific error scenarios in your code. While Python provides a rich set of built-in exceptions like ValueError, TypeError, ZeroDivisionError, etc., there might be cases where you need to handle errors that are specific to your application or domain. Custom exceptions allow you to define more meaningful and descriptive error messages tailored to your application's needs, making the code more maintainable and easier to understand."
   ]
  },
  {
   "cell_type": "code",
   "execution_count": 5,
   "id": "cfd54324-f211-4070-98a1-3ddd2ef7414d",
   "metadata": {},
   "outputs": [
    {
     "name": "stdout",
     "output_type": "stream",
     "text": [
      "Insufficient balance to withdraw.\n"
     ]
    }
   ],
   "source": [
    "class InsufficientBalanceError(Exception):\n",
    "    pass\n",
    "\n",
    "def withdraw_from_account(balance, amount):\n",
    "    try:\n",
    "        if amount > balance:\n",
    "            raise InsufficientBalanceError(\"Insufficient balance to withdraw.\")\n",
    "        balance -= amount\n",
    "        print(f\"Withdrawal successful. Current balance: {balance}\")\n",
    "    except InsufficientBalanceError as e:\n",
    "        print(e)\n",
    "\n",
    "balance = 1000\n",
    "withdraw_amount = 1500\n",
    "withdraw_from_account(balance, withdraw_amount)\n"
   ]
  },
  {
   "cell_type": "code",
   "execution_count": null,
   "id": "92383f13-240e-4724-bc38-80473f2f4e5c",
   "metadata": {},
   "outputs": [],
   "source": [
    "##Que 6\n",
    "\n",
    "class NegativeNumberError(Exception):\n",
    "    def __init__(self, message=\"Negative numbers are not allowed!\"):\n",
    "        self.message = message\n",
    "        super().__init__(self.message)\n",
    "\n",
    "def process_positive_number(num):\n",
    "    if num < 0:\n",
    "        raise NegativeNumberError()\n",
    "\n",
    "    # Perform some processing on the positive number\n",
    "    result = num * 2\n",
    "    print(f\"The result of the processing is: {result}\")\n",
    "\n",
    "# Test the function\n",
    "try:\n",
    "    user_input = int(input(\"Enter a positive number: \"))\n",
    "    process_positive_number(user_input)\n",
    "except ValueError:\n",
    "    print(\"Invalid input. Please enter a valid integer.\")\n",
    "except NegativeNumberError as e:\n",
    "    print(e)\n"
   ]
  }
 ],
 "metadata": {
  "kernelspec": {
   "display_name": "Python 3 (ipykernel)",
   "language": "python",
   "name": "python3"
  },
  "language_info": {
   "codemirror_mode": {
    "name": "ipython",
    "version": 3
   },
   "file_extension": ".py",
   "mimetype": "text/x-python",
   "name": "python",
   "nbconvert_exporter": "python",
   "pygments_lexer": "ipython3",
   "version": "3.10.8"
  }
 },
 "nbformat": 4,
 "nbformat_minor": 5
}
