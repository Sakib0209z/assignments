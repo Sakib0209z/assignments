{
 "cells": [
  {
   "cell_type": "markdown",
   "id": "5ad987f7-5ea3-4016-88fe-4065be16a8cd",
   "metadata": {},
   "source": [
    "Que1.\n",
    "    for loop: Iterate a predefined number of times. This is also known as a definite iteration.\n",
    "while loop: Keep on iterating until the condition is false . This is known as an indefinite iteration.\n",
    "for example, we have to print numbers from 1 to 10, for this purpose we will use for loop.\n",
    "if we have to print number untill we get a square of 10 , for this purpose we will use while loop."
   ]
  },
  {
   "cell_type": "markdown",
   "id": "5eb506c6-9647-4225-befb-9e7f7f3b455f",
   "metadata": {},
   "source": [
    "Que2."
   ]
  },
  {
   "cell_type": "code",
   "execution_count": 6,
   "id": "ceaf33d0-5f1f-48cd-a4d3-273d9e5be445",
   "metadata": {},
   "outputs": [
    {
     "name": "stdout",
     "output_type": "stream",
     "text": [
      "the sum of first 10 natural number is 55\n"
     ]
    }
   ],
   "source": [
    "sum=0\n",
    "for i in range(1,11):\n",
    "    sum = sum+i\n",
    "print(\"the sum of first 10 natural number is\",sum)"
   ]
  },
  {
   "cell_type": "code",
   "execution_count": null,
   "id": "b26fd68e-fa0e-472d-8214-6de3bdd4aa0a",
   "metadata": {},
   "outputs": [],
   "source": []
  },
  {
   "cell_type": "code",
   "execution_count": 1,
   "id": "87247c18-8771-41ba-b28e-f0c4c09b1d7e",
   "metadata": {},
   "outputs": [
    {
     "name": "stdout",
     "output_type": "stream",
     "text": [
      "55\n"
     ]
    }
   ],
   "source": [
    "sum1= 0\n",
    "counter=1\n",
    "while counter<=10:\n",
    "    sum1=sum1+counter\n",
    "    counter=counter+1\n",
    "print(sum1)"
   ]
  },
  {
   "cell_type": "code",
   "execution_count": 2,
   "id": "e4f8834e-c7e4-4aaf-97ea-20af75c50d11",
   "metadata": {},
   "outputs": [
    {
     "name": "stdout",
     "output_type": "stream",
     "text": [
      "3628800\n"
     ]
    }
   ],
   "source": [
    "product=1\n",
    "for i in range(1,11):\n",
    "    product=product*i\n",
    "print(product)"
   ]
  },
  {
   "cell_type": "code",
   "execution_count": 1,
   "id": "f267d15e-eba2-45bc-bce2-f4bb32fa4fd9",
   "metadata": {},
   "outputs": [
    {
     "name": "stdout",
     "output_type": "stream",
     "text": [
      "3628800\n"
     ]
    }
   ],
   "source": [
    "product1=1\n",
    "counter1=1\n",
    "while counter1<=10:\n",
    "    product1=product1*counter1\n",
    "    counter1 =counter1 +1\n",
    "print(product1)"
   ]
  },
  {
   "cell_type": "markdown",
   "id": "2377db2e-7ed0-486c-b78b-a0c5a32a5c13",
   "metadata": {},
   "source": [
    "Que3."
   ]
  },
  {
   "cell_type": "code",
   "execution_count": 2,
   "id": "448fc879-1da2-4203-8543-be9758f31290",
   "metadata": {},
   "outputs": [
    {
     "name": "stdin",
     "output_type": "stream",
     "text": [
      "enter your electricity units 310\n"
     ]
    },
    {
     "name": "stdout",
     "output_type": "stream",
     "text": [
      "Your electricity bill will be Rs 2250.0\n"
     ]
    }
   ],
   "source": [
    "unit=float(input(\"enter your electricity units\"))\n",
    "bill=0\n",
    "\n",
    "if unit<100:\n",
    "    bill=unit*(4.5)\n",
    "elif unit>100 and unit<200 :\n",
    "    bill=450+(unit-100)*6\n",
    "elif unit>200 and unit<300:\n",
    "    bill=450+600+(unit-200)*10\n",
    "elif unit>300:\n",
    "    bill=450+600+1000+(unit-300)*20\n",
    "print(\"Your electricity bill will be Rs\",bill)\n",
    "    \n",
    "            \n",
    "            \n",
    "        \n",
    "    "
   ]
  },
  {
   "cell_type": "code",
   "execution_count": 5,
   "id": "1eaacc5b-d1d5-4b31-b6d9-565c7adb26f2",
   "metadata": {},
   "outputs": [
    {
     "data": {
      "text/plain": [
       "[0,\n",
       " 1,\n",
       " 2,\n",
       " 3,\n",
       " 4,\n",
       " 5,\n",
       " 6,\n",
       " 7,\n",
       " 8,\n",
       " 9,\n",
       " 10,\n",
       " 11,\n",
       " 12,\n",
       " 13,\n",
       " 14,\n",
       " 15,\n",
       " 16,\n",
       " 17,\n",
       " 18,\n",
       " 19,\n",
       " 20,\n",
       " 21,\n",
       " 22,\n",
       " 23,\n",
       " 24,\n",
       " 25,\n",
       " 26,\n",
       " 27,\n",
       " 28,\n",
       " 29,\n",
       " 30,\n",
       " 31,\n",
       " 32,\n",
       " 33,\n",
       " 34,\n",
       " 35,\n",
       " 36,\n",
       " 37,\n",
       " 38,\n",
       " 39,\n",
       " 40,\n",
       " 41,\n",
       " 42,\n",
       " 43,\n",
       " 44,\n",
       " 45,\n",
       " 46,\n",
       " 47,\n",
       " 48,\n",
       " 49,\n",
       " 50,\n",
       " 51,\n",
       " 52,\n",
       " 53,\n",
       " 54,\n",
       " 55,\n",
       " 56,\n",
       " 57,\n",
       " 58,\n",
       " 59,\n",
       " 60,\n",
       " 61,\n",
       " 62,\n",
       " 63,\n",
       " 64,\n",
       " 65,\n",
       " 66,\n",
       " 67,\n",
       " 68,\n",
       " 69,\n",
       " 70,\n",
       " 71,\n",
       " 72,\n",
       " 73,\n",
       " 74,\n",
       " 75,\n",
       " 76,\n",
       " 77,\n",
       " 78,\n",
       " 79,\n",
       " 80,\n",
       " 81,\n",
       " 82,\n",
       " 83,\n",
       " 84,\n",
       " 85,\n",
       " 86,\n",
       " 87,\n",
       " 88,\n",
       " 89,\n",
       " 90,\n",
       " 91,\n",
       " 92,\n",
       " 93,\n",
       " 94,\n",
       " 95,\n",
       " 96,\n",
       " 97,\n",
       " 98,\n",
       " 99,\n",
       " 100]"
      ]
     },
     "execution_count": 5,
     "metadata": {},
     "output_type": "execute_result"
    }
   ],
   "source": [
    "l=list(range(0,101))\n",
    "l"
   ]
  },
  {
   "cell_type": "code",
   "execution_count": 6,
   "id": "11c7d934-f611-4e10-9cd5-299c84175492",
   "metadata": {},
   "outputs": [
    {
     "data": {
      "text/plain": [
       "[0,\n",
       " 1,\n",
       " 2,\n",
       " 3,\n",
       " 4,\n",
       " 5,\n",
       " 6,\n",
       " 7,\n",
       " 8,\n",
       " 9,\n",
       " 10,\n",
       " 11,\n",
       " 12,\n",
       " 13,\n",
       " 14,\n",
       " 15,\n",
       " 16,\n",
       " 17,\n",
       " 18,\n",
       " 19,\n",
       " 20,\n",
       " 21,\n",
       " 22,\n",
       " 23,\n",
       " 24,\n",
       " 25,\n",
       " 26,\n",
       " 27,\n",
       " 28,\n",
       " 29,\n",
       " 30,\n",
       " 31,\n",
       " 32,\n",
       " 33,\n",
       " 34,\n",
       " 35,\n",
       " 36,\n",
       " 37,\n",
       " 38,\n",
       " 39,\n",
       " 40,\n",
       " 41,\n",
       " 42,\n",
       " 43,\n",
       " 44,\n",
       " 45,\n",
       " 46,\n",
       " 47,\n",
       " 48,\n",
       " 49,\n",
       " 50,\n",
       " 51,\n",
       " 52,\n",
       " 53,\n",
       " 54,\n",
       " 55,\n",
       " 56,\n",
       " 57,\n",
       " 58,\n",
       " 59,\n",
       " 60,\n",
       " 61,\n",
       " 62,\n",
       " 63,\n",
       " 64,\n",
       " 65,\n",
       " 66,\n",
       " 67,\n",
       " 68,\n",
       " 69,\n",
       " 70,\n",
       " 71,\n",
       " 72,\n",
       " 73,\n",
       " 74,\n",
       " 75,\n",
       " 76,\n",
       " 77,\n",
       " 78,\n",
       " 79,\n",
       " 80,\n",
       " 81,\n",
       " 82,\n",
       " 83,\n",
       " 84,\n",
       " 85,\n",
       " 86,\n",
       " 87,\n",
       " 88,\n",
       " 89,\n",
       " 90,\n",
       " 91,\n",
       " 92,\n",
       " 93,\n",
       " 94,\n",
       " 95,\n",
       " 96,\n",
       " 97,\n",
       " 98,\n",
       " 99,\n",
       " 100]"
      ]
     },
     "execution_count": 6,
     "metadata": {},
     "output_type": "execute_result"
    }
   ],
   "source": [
    "l"
   ]
  },
  {
   "cell_type": "code",
   "execution_count": 8,
   "id": "66fb3326-1853-4f03-94cd-69a7b8023cc9",
   "metadata": {},
   "outputs": [
    {
     "data": {
      "text/plain": [
       "[0,\n",
       " 1,\n",
       " 8,\n",
       " 27,\n",
       " 64,\n",
       " 125,\n",
       " 216,\n",
       " 343,\n",
       " 512,\n",
       " 729,\n",
       " 1000,\n",
       " 1331,\n",
       " 1728,\n",
       " 2197,\n",
       " 2744,\n",
       " 3375,\n",
       " 4096,\n",
       " 4913,\n",
       " 5832,\n",
       " 6859,\n",
       " 8000,\n",
       " 9261,\n",
       " 10648,\n",
       " 12167,\n",
       " 13824,\n",
       " 15625,\n",
       " 17576,\n",
       " 19683,\n",
       " 21952,\n",
       " 24389,\n",
       " 27000,\n",
       " 29791,\n",
       " 32768,\n",
       " 35937,\n",
       " 39304,\n",
       " 42875,\n",
       " 46656,\n",
       " 50653,\n",
       " 54872,\n",
       " 59319,\n",
       " 64000,\n",
       " 68921,\n",
       " 74088,\n",
       " 79507,\n",
       " 85184,\n",
       " 91125,\n",
       " 97336,\n",
       " 103823,\n",
       " 110592,\n",
       " 117649,\n",
       " 125000,\n",
       " 132651,\n",
       " 140608,\n",
       " 148877,\n",
       " 157464,\n",
       " 166375,\n",
       " 175616,\n",
       " 185193,\n",
       " 195112,\n",
       " 205379,\n",
       " 216000,\n",
       " 226981,\n",
       " 238328,\n",
       " 250047,\n",
       " 262144,\n",
       " 274625,\n",
       " 287496,\n",
       " 300763,\n",
       " 314432,\n",
       " 328509,\n",
       " 343000,\n",
       " 357911,\n",
       " 373248,\n",
       " 389017,\n",
       " 405224,\n",
       " 421875,\n",
       " 438976,\n",
       " 456533,\n",
       " 474552,\n",
       " 493039,\n",
       " 512000,\n",
       " 531441,\n",
       " 551368,\n",
       " 571787,\n",
       " 592704,\n",
       " 614125,\n",
       " 636056,\n",
       " 658503,\n",
       " 681472,\n",
       " 704969,\n",
       " 729000,\n",
       " 753571,\n",
       " 778688,\n",
       " 804357,\n",
       " 830584,\n",
       " 857375,\n",
       " 884736,\n",
       " 912673,\n",
       " 941192,\n",
       " 970299,\n",
       " 1000000]"
      ]
     },
     "execution_count": 8,
     "metadata": {},
     "output_type": "execute_result"
    }
   ],
   "source": [
    "l1=[]\n",
    "for i in l:\n",
    "    l1.append(i**3)\n",
    "l1"
   ]
  },
  {
   "cell_type": "code",
   "execution_count": 4,
   "id": "e5f195b5-df54-4b92-9f71-316cc0f20d67",
   "metadata": {},
   "outputs": [
    {
     "name": "stdout",
     "output_type": "stream",
     "text": [
      "[0, 1, 8, 27, 64, 125, 216, 343, 512, 729, 1000, 1331, 1728, 2197, 2744, 3375, 4096, 4913, 5832, 6859, 8000, 9261, 10648, 12167, 13824, 15625, 17576, 19683, 21952, 24389, 27000, 29791, 32768, 35937, 39304, 42875, 46656, 50653, 54872, 59319, 64000, 68921, 74088, 79507, 85184, 91125, 97336, 103823, 110592, 117649, 125000, 132651, 140608, 148877, 157464, 166375, 175616, 185193, 195112, 205379, 216000, 226981, 238328, 250047, 262144, 274625, 287496, 300763, 314432, 328509, 343000, 357911, 373248, 389017, 405224, 421875, 438976, 456533, 474552, 493039, 512000, 531441, 551368, 571787, 592704, 614125, 636056, 658503, 681472, 704969, 729000, 753571, 778688, 804357, 830584, 857375, 884736, 912673, 941192, 970299, 1000000]\n"
     ]
    }
   ],
   "source": [
    "i=0\n",
    "l2=[]\n",
    "while i<=100:\n",
    "    l2.append(i**3)\n",
    "    i=i+1\n",
    "print(l2)"
   ]
  },
  {
   "cell_type": "code",
   "execution_count": 11,
   "id": "4825d0e2-017f-4570-9258-94cf4720be45",
   "metadata": {},
   "outputs": [
    {
     "name": "stdout",
     "output_type": "stream",
     "text": [
      "12\n"
     ]
    }
   ],
   "source": [
    "string=\"I want to become a data scientist\"\n",
    "def count_vowels(string):\n",
    "    vowels=set(\"aeiouAEIOU\")\n",
    "    count=0\n",
    "    for char in string:\n",
    "        if char in vowels:\n",
    "            count=count+1\n",
    "    return count\n",
    "print(count_vowels(string))"
   ]
  },
  {
   "cell_type": "code",
   "execution_count": null,
   "id": "3a4f479a-25f5-4b55-8449-3b43e03f01e3",
   "metadata": {},
   "outputs": [],
   "source": []
  }
 ],
 "metadata": {
  "kernelspec": {
   "display_name": "Python 3 (ipykernel)",
   "language": "python",
   "name": "python3"
  },
  "language_info": {
   "codemirror_mode": {
    "name": "ipython",
    "version": 3
   },
   "file_extension": ".py",
   "mimetype": "text/x-python",
   "name": "python",
   "nbconvert_exporter": "python",
   "pygments_lexer": "ipython3",
   "version": "3.10.8"
  }
 },
 "nbformat": 4,
 "nbformat_minor": 5
}
