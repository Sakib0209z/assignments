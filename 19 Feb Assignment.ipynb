{
 "cells": [
  {
   "cell_type": "markdown",
   "id": "03ab122b-b803-40bc-98c0-a4468a010f52",
   "metadata": {},
   "source": [
    "QUE1"
   ]
  },
  {
   "cell_type": "markdown",
   "id": "f06cc906-c577-4653-8047-fdc79a565599",
   "metadata": {},
   "source": [
    "Flask is a micro web framework written in Python. It is classified as a microframework because it does not require particular tools or libraries. It has no database abstraction layer, form validation, or any other components where pre-existing third-party libraries provide common functions. However, Flask supports extensions that can add application features as if they were implemented in Flask itself. Extensions exist for object-relational mappers, form validation, upload handling, various open authentication technologies and several common framework related tools.\n",
    "\n",
    "Advantages:\n",
    "\n",
    "Easy to learn: Flask is a very easy framework to learn, even for beginners. The documentation is clear and concise, and there are many resources available online to help you get started.\n",
    "\n",
    "Flexible: Flask is a very flexible framework, which means that you can use it to build a wide variety of web applications.\n",
    "\n",
    "Extensible: Flask is highly extensible, which means that you can add new features and functionality to your applications easily.\n",
    "\n",
    "Popular: Flask is a very popular framework, which means that there is a large community of users and developers who can provide support and help.\n",
    "\n",
    "Fast: Flask is a very fast framework, which makes it ideal for building high-performance web applications."
   ]
  },
  {
   "cell_type": "markdown",
   "id": "dd8c6a74-6fbb-4abb-9e6a-ecc250236b3d",
   "metadata": {},
   "source": [
    "QUE2"
   ]
  },
  {
   "cell_type": "raw",
   "id": "72f5ad53-53eb-42b0-968f-83210920d82f",
   "metadata": {},
   "source": [
    "code:\n",
    "    \n",
    "from flask import Flask\n",
    "\n",
    "app = Flask(__name__)\n",
    "\n",
    "@app.route(\"/sakib\")\n",
    "def hello_world():\n",
    "    return \"<h1>Hello, World !</h1>\"\n",
    "\n",
    "if __name__==\"__main__\":\n",
    "    app.run(host=\"0.0.0.0\")\n"
   ]
  },
  {
   "cell_type": "markdown",
   "id": "fbafa821-5c1d-4719-a5d3-4e0e18cd7074",
   "metadata": {},
   "source": [
    "https://gray-painter-scmrs.pwskills.app/files/work/19%20feb.png?_xsrf=2%7C86eda933%7C047c12bd23f8f54fb279f69958e4a3ce%7C1690736739"
   ]
  },
  {
   "cell_type": "markdown",
   "id": "45d39b3e-ccfc-4db5-8b2c-fccc79ed3e3f",
   "metadata": {},
   "source": [
    "QUE3"
   ]
  },
  {
   "cell_type": "markdown",
   "id": "d1e43002-25a2-476a-a0e8-837f60cb4290",
   "metadata": {},
   "source": [
    "App routing in Flask is the process of mapping URLs to functions. This allows you to create different pages in your web application that can be accessed by different URLs. For example, you could have a URL / that maps to the home page of your application, and a URL /about that maps to a page about your application.\n",
    "\n",
    "We use app routes in Flask for a number of reasons:\n",
    "\n",
    "To make our web applications more organized: App routes allow us to group together related pages in our web application. This makes it easier for us to find and manage the pages in our application.\n",
    "To improve the performance of our web applications: App routes can help us to improve the performance of our web applications by caching frequently accessed pages. This means that the pages will not have to be loaded from the server each time they are accessed.\n",
    "To make our web applications more user-friendly: App routes can help us to make our web applications more user-friendly by providing clear and concise URLs for our pages. This makes it easier for users to find the pages they are looking for."
   ]
  },
  {
   "cell_type": "markdown",
   "id": "b44d851e-3488-447a-a003-73af36187449",
   "metadata": {},
   "source": [
    "QUE4"
   ]
  },
  {
   "cell_type": "raw",
   "id": "bf3f20cf-31f5-4bcb-838b-b22f775c285b",
   "metadata": {},
   "source": [
    "code:\n",
    "    from flask import Flask\n",
    "\n",
    "app = Flask(__name__)\n",
    "\n",
    "@app.route(\"/\")\n",
    "def details():\n",
    "    return \"Company Name: ABC Corporation, Location: India, Contact Detail: 999-999-9999\"\n",
    "\n",
    "@app.route(\"/welcome\")\n",
    "def welcome():\n",
    "    return \"“Welcome to ABC Corporation”\"\n",
    "\n",
    "if __name__==\"__main__\":\n",
    "    app.run(host=\"0.0.0.0\")\n"
   ]
  },
  {
   "cell_type": "markdown",
   "id": "2f864dd1-99f9-40b1-9f48-d98e20a192f7",
   "metadata": {},
   "source": [
    "https://gray-painter-scmrs.pwskills.app/files/work/19%20feb%201.png?_xsrf=2%7C86eda933%7C047c12bd23f8f54fb279f69958e4a3ce%7C1690736739"
   ]
  },
  {
   "cell_type": "markdown",
   "id": "60f3c44c-bda1-44a1-9ffe-aec103bc5e96",
   "metadata": {},
   "source": [
    "https://gray-painter-scmrs.pwskills.app/files/work/19%20feb%202.png?_xsrf=2%7C86eda933%7C047c12bd23f8f54fb279f69958e4a3ce%7C1690736739"
   ]
  },
  {
   "cell_type": "markdown",
   "id": "5f0ee8bb-2644-4d76-8706-a09feb3ab8a9",
   "metadata": {},
   "source": [
    "QUE 5"
   ]
  },
  {
   "cell_type": "markdown",
   "id": "17a595d1-37a2-48b3-aab0-2db62a97dc01",
   "metadata": {},
   "source": [
    "In Flask, the url_for() function is used for URL building. It generates URLs for your routes based on their endpoint names and any parameters that those routes require. This makes it easier to create dynamic links in your application without hardcoding URLs."
   ]
  },
  {
   "cell_type": "raw",
   "id": "305e561c-6913-4a82-b2da-1a69623552e6",
   "metadata": {},
   "source": [
    "from flask import Flask, url_for\n",
    "\n",
    "app = Flask(__name__)\n",
    "\n",
    "@app.route('/')\n",
    "def home():\n",
    "    return 'Welcome to the home page'\n",
    "\n",
    "@app.route('/user/<username>')\n",
    "def user_profile(username):\n",
    "    return f'Hello, {username}'\n",
    "\n",
    "@app.route('/generate_url')\n",
    "def generate_url():\n",
    "   \n",
    "    home_url = url_for('home')\n",
    "    user_url = url_for('user_profile', username='john_doe')\n",
    "\n",
    "    return f'Generated URLs: <a href=\"{home_url}\">Home</a>, <a href=\"{user_url}\">John Doe\\'s Profile</a>'\n",
    "\n",
    "if __name__ == '__main__':\n",
    "    app.run(debug=True)\n"
   ]
  },
  {
   "cell_type": "code",
   "execution_count": null,
   "id": "97f48416-72d3-4eeb-859a-83a892f2b206",
   "metadata": {},
   "outputs": [],
   "source": []
  }
 ],
 "metadata": {
  "kernelspec": {
   "display_name": "Python 3 (ipykernel)",
   "language": "python",
   "name": "python3"
  },
  "language_info": {
   "codemirror_mode": {
    "name": "ipython",
    "version": 3
   },
   "file_extension": ".py",
   "mimetype": "text/x-python",
   "name": "python",
   "nbconvert_exporter": "python",
   "pygments_lexer": "ipython3",
   "version": "3.10.8"
  }
 },
 "nbformat": 4,
 "nbformat_minor": 5
}
